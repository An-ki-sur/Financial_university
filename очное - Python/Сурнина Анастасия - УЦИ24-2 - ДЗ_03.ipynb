{
 "cells": [
  {
   "cell_type": "markdown",
   "id": "97518b57",
   "metadata": {},
   "source": [
    "# Алгоритмы и структуры данных в языке Python\n",
    "\n",
    "# Домашнее задание 2.1 (3)\n",
    "\n",
    "Присвойте этому файлу имя в формате *Фамилия_Имя_Группа_ДЗ_3*. Разместите файл в соответствующем разделе электронного учебного курса."
   ]
  },
  {
   "cell_type": "markdown",
   "id": "c35fc356",
   "metadata": {},
   "source": [
    "<p style = \"background:powderblue\">1. Матрица индексов</p>\n",
    "\n",
    "Программа получает на вход две целочисленные переменные $m, n$. Создайте матрицу $M$ размера $m \\times n$, в каждой строке которой $n$ раз повторяется индекс строки.\n",
    "\n",
    "Пример. Матрица $3 \\times 4$\n",
    "$$\n",
    "M_{m,n} = \n",
    " \\begin{pmatrix}\n",
    "  0 & 0 & 0 & 0 \\\\\n",
    "  1 & 1 & 1 & 1 \\\\\n",
    "  2 & 2 & 2 & 2 \\\\\n",
    " \\end{pmatrix}\n",
    "$$"
   ]
  },
  {
   "cell_type": "code",
   "execution_count": 9,
   "id": "e5c423a4",
   "metadata": {},
   "outputs": [
    {
     "name": "stdout",
     "output_type": "stream",
     "text": [
      "0 0 0 0\n",
      "1 1 1 1\n",
      "2 2 2 2\n"
     ]
    }
   ],
   "source": [
    "# 1. Ваш код здесь\n",
    "m = int(input('Enter m: '))\n",
    "n = int(input('Enter n: '))\n",
    "\n",
    "M = []\n",
    "for i in range(m):\n",
    "    r = []\n",
    "    for j in range(n):\n",
    "        r.append(i)\n",
    "    M.append(r)\n",
    "for i in range(m):\n",
    "    print(*M[i])\n"
   ]
  },
  {
   "cell_type": "markdown",
   "id": "3e90af73",
   "metadata": {},
   "source": [
    "<p style = \"background:powderblue\">2. Единичная матрица</p>\n",
    "\n",
    "Дано целое число $n$. Распечатайте матрицу ${n}\\times{n}$, в которой все элементы равны нулю, кроме главной диагонали, на которой стоят единицы. (Главная диагональ квадратной матрицы состоит из элементов с индексами $i$ и $j$, в которых $i=j$. То есть это элементы с индексами 00, 11, 22 и т.д.)"
   ]
  },
  {
   "cell_type": "code",
   "execution_count": 11,
   "id": "2982da51",
   "metadata": {},
   "outputs": [
    {
     "name": "stdout",
     "output_type": "stream",
     "text": [
      "1 0 0\n",
      "0 1 0\n",
      "0 0 1\n"
     ]
    }
   ],
   "source": [
    "# 2. Ваш код здесь\n",
    "n = int(input('Enter n: '))\n",
    "M = []\n",
    "for i in range(m):\n",
    "    r = []\n",
    "    for j in range(n):\n",
    "        if j == i:\n",
    "            r.append(1)\n",
    "        else: r.append(0)\n",
    "    M.append(r)\n",
    "for i in range(n):\n",
    "    print(*M[i])\n"
   ]
  },
  {
   "cell_type": "markdown",
   "id": "2bb1e583",
   "metadata": {},
   "source": [
    "<p style = \"background:powderblue\">3. Раскраска шахматной доски</p>\n",
    "\n",
    "В этом задании вам предстоит раскрасить шахматную доску размера $n \\times n$ в черный и белый цвета. Элемент с индексом [0][0] раскрасьте в белый цвет, а далее в шахматном порядке. Для обозначения черного цвета используйте символ \"b\", для обозначения белого цвета — символ \"w\"."
   ]
  },
  {
   "cell_type": "code",
   "execution_count": 12,
   "id": "828233b2",
   "metadata": {},
   "outputs": [
    {
     "name": "stdout",
     "output_type": "stream",
     "text": [
      "w b w b\n",
      "b w b w\n",
      "w b w b\n"
     ]
    },
    {
     "ename": "IndexError",
     "evalue": "list index out of range",
     "output_type": "error",
     "traceback": [
      "\u001b[31m---------------------------------------------------------------------------\u001b[39m",
      "\u001b[31mIndexError\u001b[39m                                Traceback (most recent call last)",
      "\u001b[36mCell\u001b[39m\u001b[36m \u001b[39m\u001b[32mIn[12]\u001b[39m\u001b[32m, line 12\u001b[39m\n\u001b[32m     10\u001b[39m     M.append(r)\n\u001b[32m     11\u001b[39m \u001b[38;5;28;01mfor\u001b[39;00m i \u001b[38;5;129;01min\u001b[39;00m \u001b[38;5;28mrange\u001b[39m(n):\n\u001b[32m---> \u001b[39m\u001b[32m12\u001b[39m     \u001b[38;5;28mprint\u001b[39m(*\u001b[43mM\u001b[49m\u001b[43m[\u001b[49m\u001b[43mi\u001b[49m\u001b[43m]\u001b[49m)\n",
      "\u001b[31mIndexError\u001b[39m: list index out of range"
     ]
    }
   ],
   "source": [
    "# 3. Ваш код здесь\n",
    "n = int(input('Enter n: '))\n",
    "M = []\n",
    "for i in range(m):\n",
    "    r = []\n",
    "    for j in range(n):\n",
    "        if (j + i) % 2 == 0:\n",
    "            r.append('w')\n",
    "        else: r.append('b')\n",
    "    M.append(r)\n",
    "for i in range(n):\n",
    "    print(*M[i])"
   ]
  },
  {
   "cell_type": "markdown",
   "id": "59166172",
   "metadata": {},
   "source": [
    "<p style = \"background:powderblue\">4. Обратная диагональ матрицы</p>\n",
    "\n",
    "Мы решали задание с заполнением главной диагонали, а теперь нам предстоит сделать аналогичную вещь для обратной (побочной) диагонали. Выведите матрицу размера $n \\times n$ с такими элементами: все значения, стоящие на обратной (побочной) диагонали, равны 1, остальные 0."
   ]
  },
  {
   "cell_type": "code",
   "execution_count": null,
   "id": "ad72a536",
   "metadata": {},
   "outputs": [
    {
     "name": "stdout",
     "output_type": "stream",
     "text": [
      "0 0 1\n",
      "0 1 0\n",
      "1 0 0\n"
     ]
    }
   ],
   "source": [
    "# 4. Ваш код здесь\n",
    "n = int(input('Enter n: '))\n",
    "M = []\n",
    "for i in range(m):\n",
    "    r = []\n",
    "    for j in range(n):\n",
    "        if (i + j) == (n-1):\n",
    "            r.append(1)\n",
    "        else: r.append(0)\n",
    "    M.append(r)\n",
    "for i in range(n):\n",
    "    print(*M[i])"
   ]
  },
  {
   "cell_type": "markdown",
   "id": "39e15767",
   "metadata": {},
   "source": [
    "<p style = \"background:powderblue\">5. Два вектора</p>\n",
    "\n",
    "Имеются два $n$–мерных вектора $x$ и $y$, которые задают координаты $n$ точек на плоскости (случайные целые числа) в интервале от -10 до 10. Найдите наиболее близкие точки, распечатайте их координаты и расстояние между ними."
   ]
  },
  {
   "cell_type": "code",
   "execution_count": 23,
   "id": "68eff2e8",
   "metadata": {},
   "outputs": [
    {
     "name": "stdout",
     "output_type": "stream",
     "text": [
      "x: [-3, -6, 1]\n",
      "y: [-4, -5, 9]\n",
      "points: [(-3, -4), (-6, -5), (1, 9)]\n",
      "the closest point are ((-3, -4), (-6, -5))\n"
     ]
    }
   ],
   "source": [
    "# 5. Ваш код здесь\n",
    "import random\n",
    "import math\n",
    "import time\n",
    "\n",
    "random.seed(time.time())\n",
    "\n",
    "n = int(input(\"Enter n: \"))\n",
    "\n",
    "x = [random.randint(-10, 10) for _ in range(n)]\n",
    "print(f'x: {x}')\n",
    "y = [random.randint(-10, 10) for _ in range(n)]\n",
    "print(f'y: {y}')\n",
    "\n",
    "points = [(x[i], y[i]) for i in range(n)]\n",
    "print(f'points: {points}')\n",
    "\n",
    "min_distance = 123456789012345678901234567890\n",
    "closest_points = ()\n",
    "\n",
    "for i in range(n):\n",
    "    for j in range(i + 1, n):\n",
    "        distance = math.sqrt((x[i] - x[j])**2 + (y[i] - y[j])**2)\n",
    "        \n",
    "        if distance < min_distance:\n",
    "            min_distance = distance\n",
    "            closest_points = (points[i], points[j])\n",
    "\n",
    "print(f'the closest point are {closest_points}')\n",
    "\n"
   ]
  },
  {
   "cell_type": "markdown",
   "id": "1bba410b",
   "metadata": {},
   "source": [
    "<p style = \"background:powderblue\">6. Високосный год</p>\n",
    "\n",
    "По номеру года определите, является ли данный год високосным. Год является високосным, если его номер кратен 4, кроме номеров, кратных 100. Однако, если номер года кратен 400, то он является високосным.\n",
    "\n",
    "- год, номер которого кратен 400, — високосный;\n",
    "- остальные годы, номер которых кратен 100, — невисокосные (например, годы 1700, 1800, 1900, 2100, 2200, 2300);\n",
    "- остальные годы, номер которых кратен 4, — високосные;\n",
    "- все остальные годы — невисокосные.\n",
    "\n",
    "<a href = \"https://ru.wikipedia.org/wiki/%D0%92%D0%B8%D1%81%D0%BE%D0%BA%D0%BE%D1%81%D0%BD%D1%8B%D0%B9_%D0%B3%D0%BE%D0%B4\">Високосный год</a>"
   ]
  },
  {
   "cell_type": "code",
   "execution_count": 4,
   "id": "7875bdad",
   "metadata": {},
   "outputs": [
    {
     "name": "stdout",
     "output_type": "stream",
     "text": [
      "Year 1700 is NE visokosny\n"
     ]
    }
   ],
   "source": [
    "# 6. Ваш код здесь\n",
    "year = int(input('year: '))\n",
    "\n",
    "if year % 100 != 0 and year % 4 == 0:\n",
    "    a = 'Visokosny'\n",
    "elif year % 400 == 0:\n",
    "    a = 'Visokosny'\n",
    "else:\n",
    "    a = 'NE visokosny'\n",
    "print(f'Year {year} is {a}')"
   ]
  }
 ],
 "metadata": {
  "kernelspec": {
   "display_name": "Python 3",
   "language": "python",
   "name": "python3"
  },
  "language_info": {
   "codemirror_mode": {
    "name": "ipython",
    "version": 3
   },
   "file_extension": ".py",
   "mimetype": "text/x-python",
   "name": "python",
   "nbconvert_exporter": "python",
   "pygments_lexer": "ipython3",
   "version": "3.13.3"
  }
 },
 "nbformat": 4,
 "nbformat_minor": 5
}
