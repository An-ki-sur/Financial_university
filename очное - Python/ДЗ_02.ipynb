{
 "cells": [
  {
   "cell_type": "markdown",
   "id": "97518b57",
   "metadata": {},
   "source": [
    "# Домашнее задание 2\n",
    "\n",
    "Присвойте этому файлу имя в формате *Фамилия_Имя_Группа_ДЗ_2*. Разместите файл *jupyter notebook* в соответствующем разделе электронного учебного курса."
   ]
  },
  {
   "cell_type": "markdown",
   "id": "f81f319e",
   "metadata": {},
   "source": [
    "<p style = \"background:powderblue\">1. Дополнить программу</p>\n",
    "\n",
    "Дополните программу таким образом, чтобы в результате ее исполнения на экран были выведены значения True, True, True, True, в одну строку через пробел.\n",
    "```\n",
    "a = True or True # внесите изменения в этой строке если необходимо\n",
    "b = True < False # внесите изменения в этой строке если необходимо\n",
    "c = False or True # внесите изменения в этой строке если необходимо\n",
    "d = False == False # внесите изменения в этой строке если необходимо\n",
    "```"
   ]
  },
  {
   "cell_type": "code",
   "execution_count": 2,
   "id": "a824eb22",
   "metadata": {},
   "outputs": [
    {
     "name": "stdout",
     "output_type": "stream",
     "text": [
      "True True True True\n"
     ]
    }
   ],
   "source": [
    "# 1. Ваш код здесь\n",
    "a = True or True \n",
    "b = True > False\n",
    "c = False or True\n",
    "d = False == False\n",
    "print(a, b, c, d)"
   ]
  },
  {
   "cell_type": "markdown",
   "id": "3947000b",
   "metadata": {},
   "source": [
    "<p style = \"background:powderblue\">2. Однозначное число</p>\n",
    "\n",
    "Написать программу, которая проверяет, является ли введенное пользователем число однозначным (состоящим из одной цифры); если является - вывести \"yes\", а если нет - вывести \"no\".\n",
    "\n",
    "Проверить для входных данных: 1, 10, -3, -40, 0<br>\n",
    "Ответы: yes, no, yes, no, yes."
   ]
  },
  {
   "cell_type": "code",
   "execution_count": 5,
   "id": "763de111",
   "metadata": {},
   "outputs": [
    {
     "name": "stdout",
     "output_type": "stream",
     "text": [
      "yes\n"
     ]
    }
   ],
   "source": [
    "# 2. Ваш код здесь\n",
    "a = int(input())\n",
    "if abs(a) == abs(a) % 10:\n",
    "    print('yes')\n",
    "else: print('no')"
   ]
  },
  {
   "cell_type": "markdown",
   "id": "4be08335",
   "metadata": {},
   "source": [
    "<p style = \"background:powderblue\">3. Сравнить две строки</p>\n",
    "\n",
    "Написать программу, которая будет сравнивать две введенные пользователем строки.\n",
    "\n",
    "Если введенные строки равны — вывести сообщение \"strings are equal\" и завершить выполнение программы.\n",
    "\n",
    "Если строки не равны, то программа должна сообщить об этом пользователю и предложить исправить вторую введенную строку; текст сообщения для вывода на экран - \"strings are not equal, correct the second string\".\n",
    "\n",
    "После того как пользователь повторно ввел вторую строку вновь выполнить проверку на равенство строк и вывести на экран результат сравнения (\"strings are equal\" или \"strings are not equal\")."
   ]
  },
  {
   "cell_type": "code",
   "execution_count": null,
   "id": "0d332407",
   "metadata": {},
   "outputs": [],
   "source": [
    "# 3. Ваш код здесь\n",
    "\n",
    "first_str = input(\"one: \")\n",
    "second_str = input(\"two: \")\n",
    "# место для вашего кода\n",
    "if first_str == second_str:\n",
    "    print('strings are equal')\n",
    "else:\n",
    "    print('strings are not equal, correct the second string')\n",
    "    second_str = input(\"two: \")\n",
    "    if first_str == second_str:\n",
    "        print('strings are equal')\n",
    "    else:\n",
    "        print('strings are not equal')\n"
   ]
  },
  {
   "cell_type": "markdown",
   "id": "0830b499",
   "metadata": {},
   "source": [
    "<p style = \"background:powderblue\">4. Математическая операция</p>\n",
    "\n",
    "Написать программу, которая принимает от пользователя математический оператор (\"+\" или \"*\") и два целых числа, а затем выводит результат вычисления выбранной математической операции с этими числами. Если введен недопустимый оператор, выводится ошибка - \"operation unknown\"."
   ]
  },
  {
   "cell_type": "code",
   "execution_count": null,
   "id": "289e153f",
   "metadata": {},
   "outputs": [],
   "source": [
    "# 4. Ваш код здесь\n",
    "op = input()\n",
    "if op != '+' or op != '*':\n",
    "    print('operation unknow')\n",
    "else:\n",
    "    a = int(input('Enter yor fist number: '))\n",
    "    b = int(input('Enter yor second number: '))\n",
    "    if op == '+':\n",
    "        print(f'a + b = {a+b}')\n",
    "    else: print(f'a * b = {a*b}')"
   ]
  },
  {
   "cell_type": "markdown",
   "id": "4f7e56ce",
   "metadata": {},
   "source": [
    "<p style = \"background:powderblue\">5. Математическая операция 2</p>\n",
    "\n",
    "Написать программу, которая:\n",
    "\n",
    "1. Запрашивает базовое целое число base.\n",
    "2. Запрашивает математический операнд сложения или умножения в виде символов + или * соответственно.\n",
    "3. Запрашивает новое целое число next, а затем совершает операцию из пункта 2 над числами base и next. Результат вычисления записывается в base.\n",
    "4. Запрашивает математический операнд вычитания или деления в виде символов - или / соответственно.\n",
    "5. Запрашивает новое целое число next, а затем совершает операцию из пункта 4 над числами base и next. Результат вычисления программа должна вывести на экран.\n",
    "\n",
    "Если на каком-то шаге введено неизвестное значение, выводится текст \"error\".\n",
    "\n",
    "```\n",
    "Входные данные, результат\n",
    "(5, +, 7, -, 3), 9\n",
    "(5, +, 7, /, 3), 4.0\n",
    "(5, *, 7, *), error\n",
    "(5, -), error\n",
    "(11, /), error\n",
    "```"
   ]
  },
  {
   "cell_type": "code",
   "execution_count": null,
   "id": "10417fce",
   "metadata": {},
   "outputs": [],
   "source": [
    "# 5. Ваш код здесь\n",
    "\n",
    "base = int(input(\"base: \"))\n",
    "operation1 = input(\"operation1: \")\n",
    "next = int(input('next: '))\n",
    "su = 0\n",
    "if operation1 != '+' or operation1 != '*':\n",
    "    print('error')\n",
    "else:\n",
    "    if operation1 == '+':\n",
    "        su = a + b\n",
    "    else: su = a * b\n",
    "    operation2 = input('operation2: ')\n",
    "    next = int(input('next: '))\n",
    "    if operation1 != '-' or operation1 != '/':\n",
    "        print('error')\n",
    "    else:\n",
    "        if operation1 == '-':\n",
    "            su = a - b\n",
    "        else: su = a / b\n",
    "        \n",
    "print(f'Your answer is: {su}')"
   ]
  },
  {
   "cell_type": "markdown",
   "id": "132b5f2f",
   "metadata": {},
   "source": [
    "<p style = \"background:powderblue\">6. Угадай число</p>\n",
    "\n",
    "Написать программу, которая принимает на вход целое число, а затем предлагает пользователю три раза угадать введенное число, соблюдая следующие правила:\n",
    "\n",
    "- если введенное число больше загаданного, вывести текст \"more\" и перейти к следующей попытке;\n",
    "- если введенное число меньше загаданного, вывести текст \"less\" и перейти к следующей попытке;\n",
    "- если введенное число равно загаданному, вывести текст \"You win!\" и завершить программу;\n",
    "- если число не угадано за три попытки, вывести текст \"Game over!\".\n",
    "\n",
    "```\n",
    "Входные данные, результат\n",
    "(7, 5, 9, 7), (less, more, You win!)\n",
    "(0, 5, -2, 0), (more, less, You win!)\n",
    "(10, 5, 7, 9), (less, less, Game over!)\n",
    "(15, 3, 8, 11), (less, less, Game over!)\n",
    "(-7, -7), (You win!)\n",
    "```"
   ]
  },
  {
   "cell_type": "code",
   "execution_count": 5,
   "id": "25c2c61f",
   "metadata": {},
   "outputs": [
    {
     "name": "stdout",
     "output_type": "stream",
     "text": [
      "less\n",
      "less\n",
      "Game over!\n"
     ]
    }
   ],
   "source": [
    "# 6. Ваш код здесь\n",
    "\n",
    "value = int(input())\n",
    "attempt = int(input('First try:  '))\n",
    "\n",
    "i = 0\n",
    "while i <= 3 or attempt != value:\n",
    "    i += 1\n",
    "    if i == 3:\n",
    "        print('Game over!')\n",
    "        break\n",
    "    if attempt < value:\n",
    "        print('less')\n",
    "    elif attempt > value:\n",
    "        print('more')\n",
    "    elif attempt == value:\n",
    "        print('You win!')\n",
    "        break\n",
    "    attempt = int(input('next try: '))\n",
    "\n",
    "\n"
   ]
  }
 ],
 "metadata": {
  "kernelspec": {
   "display_name": "base",
   "language": "python",
   "name": "python3"
  },
  "language_info": {
   "codemirror_mode": {
    "name": "ipython",
    "version": 3
   },
   "file_extension": ".py",
   "mimetype": "text/x-python",
   "name": "python",
   "nbconvert_exporter": "python",
   "pygments_lexer": "ipython3",
   "version": "3.9.7"
  }
 },
 "nbformat": 4,
 "nbformat_minor": 5
}
