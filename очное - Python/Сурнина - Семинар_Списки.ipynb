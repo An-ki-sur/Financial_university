{
 "cells": [
  {
   "cell_type": "markdown",
   "id": "325fe719",
   "metadata": {},
   "source": [
    "# Семинар 2.1 (3). Списки\n",
    "\n",
    "Присвойте этому файлу имя в формате *Фамилия_Имя_Группа_Семинар_3*. Разместите файл в соответствующем разделе электронного учебного курса."
   ]
  },
  {
   "cell_type": "markdown",
   "id": "321e2b23",
   "metadata": {},
   "source": [
    "<p style=\"background:#F0A5FF; font-weight:bold\">Задача 1. Случайный список</p>\n",
    "\n",
    "Сформировать и вывести на экран список из 5 случайных целых чисел от -10 до 10. Для созданного списка: \n",
    "1) вычислить среднее арифметическое значение элементов списка; \n",
    "2) переставить элементы списка в обратном порядке;\n",
    "3) создать новый список из отрицательных элементов исходного списка. В исходном списке удалить отрицательные элементы. Порядок элементов должен быть сохранен."
   ]
  },
  {
   "cell_type": "code",
   "execution_count": 8,
   "id": "04252ea4",
   "metadata": {},
   "outputs": [
    {
     "name": "stdout",
     "output_type": "stream",
     "text": [
      "x: [-8, -9, -5, 8, 9]\n",
      "srednee znachenie: -1.0\n",
      "obratnoye: [9, 8, -5, -9, -8]\n",
      "x1: [-8, -9, -5]\n",
      "x: [8, 9]\n"
     ]
    }
   ],
   "source": [
    "# 1.\n",
    "import random\n",
    "import time\n",
    "\n",
    "random.seed(time.time())\n",
    "\n",
    "x = [random.randint(-10, 10) for _ in range(5)]\n",
    "print(f'x: {x}')\n",
    "\n",
    "sr_zn = 0\n",
    "x1 = []\n",
    "sp = []\n",
    "for i in range(5):\n",
    "    sr_zn += int(x[i])\n",
    "    if int(x[i]) < 0:\n",
    "        x1.append(x[i])\n",
    "        sp.append(i)\n",
    "     \n",
    "print(f'srednee znachenie: {sr_zn / 5}')\n",
    "print(f'obratnoye: {x[4::-1]}')\n",
    "print(f'x1: {x1}')\n",
    "\n",
    "for i in sp[::-1]:\n",
    "    x.remove(x[i])\n",
    "print(f'x: {x}')\n",
    "\n",
    "\n",
    "\n"
   ]
  },
  {
   "cell_type": "markdown",
   "id": "566b1c0c",
   "metadata": {},
   "source": [
    "<p style=\"background:#F0A5FF; font-weight:bold\">Задача 2. Упорядоченный список</p>\n",
    "\n",
    "Имеются 2 списка целых чисел, упорядоченные по возрастанию. Получите новый список, содержащий все элементы исходных списков, в котором элементы также упорядочены в порядке возрастания, не используя встроенные методы сортировки. "
   ]
  },
  {
   "cell_type": "code",
   "execution_count": 15,
   "id": "812e2c7b",
   "metadata": {},
   "outputs": [
    {
     "name": "stdout",
     "output_type": "stream",
     "text": [
      "x: [-1, 4, 4, 9]\n",
      "y: [-2, 1, 2, 8]\n",
      "[-2, -1, 1, 2, 4, 4, 8, 9]\n"
     ]
    }
   ],
   "source": [
    "# 2.\n",
    "import random\n",
    "import time\n",
    "\n",
    "random.seed(time.time())\n",
    "\n",
    "n = int(input('enter n: '))\n",
    "x = [random.randint(-10, 10) for _ in range(n)]\n",
    "x = sorted(x)\n",
    "print(f'x: {(x)}')\n",
    "y = [random.randint(-10, 10) for _ in range(n)]\n",
    "y = sorted(y)\n",
    "print(f'y: {y}')\n",
    "\n",
    "sp = []\n",
    "\n",
    "ptr1, ptr2 = 0, 0\n",
    "    \n",
    "while ptr1 < len(x) and ptr2 < len(y):\n",
    "    if x[ptr1] < y[ptr2]:\n",
    "        sp.append(x[ptr1])\n",
    "        ptr1 += 1\n",
    "    else:\n",
    "        sp.append(y[ptr2])\n",
    "        ptr2 += 1\n",
    "    \n",
    "sp.extend(x[ptr1:])\n",
    "sp.extend(y[ptr2:])\n",
    "print(sp)"
   ]
  },
  {
   "cell_type": "markdown",
   "id": "3cc704fe",
   "metadata": {},
   "source": [
    "<p style=\"background:#F0A5FF; font-weight:bold\">Задача 3. Треугольник</p>\n",
    "\n",
    "Треугольник задан в виде списка координат вершин (вершина представляется в виде списка из двух чисел). Проверьте, действительно ли заданные точки определяют треугольник, вычислите длины сторон, площадь и периметр треугольника.\n",
    "\n",
    "Проверить для\n",
    "- $A=(1,1), B=(5,3), C=(2,7)$\n",
    "- $A=(1,1), B=(1.5,4), C=(2,7)$"
   ]
  },
  {
   "cell_type": "code",
   "execution_count": 20,
   "id": "f35c071a",
   "metadata": {},
   "outputs": [
    {
     "name": "stdout",
     "output_type": "stream",
     "text": [
      "points: [(1, 1), (5, 3), (2, 7)]\n",
      "1\n",
      "1\n",
      "Длины сторон: 5.00, 6.08, 4.47\n",
      "Периметр: 15.55\n",
      "Площадь: 11.00\n"
     ]
    }
   ],
   "source": [
    "# 3.\n",
    "points = [(int(input()), int(input())) for i in range(3)]\n",
    "print(f'points: {points}')\n",
    "\n",
    "print(points[0][1])\n",
    "\n",
    "\n",
    "def is_triangle(points):\n",
    "    if len(points) != 3:\n",
    "        return False\n",
    "    \n",
    "    if points[0] == points[1] or points[1] == points[2] or points[0] == points[2]:\n",
    "        return False\n",
    "    \n",
    "    x1, y1 = points[0]\n",
    "    x2, y2 = points[1]\n",
    "    x3, y3 = points[2]\n",
    "    \n",
    "    area = 0.5 * abs(x1*(y2-y3) + x2*(y3-y1) + x3*(y1-y2))\n",
    "    return area > 1e-10\n",
    "\n",
    "def distance(p1, p2):\n",
    "    return math.sqrt((p1[0]-p2[0])**2 + (p1[1]-p2[1])**2)\n",
    "\n",
    "def calculate_sides(points):\n",
    "    a = distance(points[1], points[2])  # BC\n",
    "    b = distance(points[0], points[2])  # AC\n",
    "    c = distance(points[0], points[1])  # AB\n",
    "    return a, b, c\n",
    "\n",
    "def calculate_perimeter(sides):\n",
    "    return sum(sides)\n",
    "\n",
    "def calculate_area(points, sides):\n",
    "    a, b, c = sides\n",
    "    p = sum(sides) / 2\n",
    "    return math.sqrt(p * (p - a) * (p - b) * (p - c))\n",
    "\n",
    "\n",
    "print(points[0][1])\n",
    "\n",
    "if not is_triangle(points):\n",
    "    print(\"Точки не образуют треугольник\")\n",
    "else:\n",
    "    sides = calculate_sides(points)\n",
    "    perimeter = calculate_perimeter(sides)\n",
    "    area = calculate_area(points, sides)\n",
    "    \n",
    "    print(f\"Длины сторон: {sides[0]:.2f}, {sides[1]:.2f}, {sides[2]:.2f}\")\n",
    "    print(f\"Периметр: {perimeter:.2f}\")\n",
    "    print(f\"Площадь: {area:.2f}\")"
   ]
  },
  {
   "cell_type": "markdown",
   "id": "6b240420",
   "metadata": {},
   "source": [
    "<p style=\"background:#F0A5FF; font-weight:bold\">Задача 4. Два случайных списка</p>\n",
    "\n",
    "Создайте 2 списка из 5 случайных целых чисел от 1 до 10. \n",
    "1) определите, сколько различных чисел содержат списки; \n",
    "2) определите, сколько различных чисел содержится одновременно как в первом списке, так и во втором; \n",
    "3) выведите все числа, которые входят как в первый, так и во второй список в порядке возрастания; \n",
    "4) удалите из первого списка числа, входящие во второй список."
   ]
  },
  {
   "cell_type": "code",
   "execution_count": 1,
   "id": "f0af04a9",
   "metadata": {},
   "outputs": [
    {
     "name": "stdout",
     "output_type": "stream",
     "text": [
      "x: [8, 5, 6, 9, 1]\n",
      "y: [-6, 6, 6, -10, 10]\n",
      "set in x: {1, 5, 6, 8, 9}\n",
      "set in y: {-6, 10, 6, -10}\n",
      "set for all lists: [-10, -6, 1, 5, 6, 8, 9, 10]\n",
      "x: [8, 5, 9, 1]\n"
     ]
    }
   ],
   "source": [
    "# 4.\n",
    "import random\n",
    "import time\n",
    "\n",
    "random.seed(time.time())\n",
    "\n",
    "x = [random.randint(1, 10) for _ in range(5)]\n",
    "print(f'x: {x}')\n",
    "y = [random.randint(-10, 10) for _ in range(5)]\n",
    "print(f'y: {y}')\n",
    "\n",
    "s_x = set(x)\n",
    "print(f'set in x: {s_x}')\n",
    "s_y = set(y)\n",
    "print(f'set in y: {s_y}')\n",
    "sss = list(s_x) + list(s_y)\n",
    "ss = list(set(sss))\n",
    "print(f'set for all lists: {sorted(ss)}')\n",
    "\n",
    "for i in x:\n",
    "    if i in y:\n",
    "        x.remove(i)\n",
    "        \n",
    "print(f'x: {x}')"
   ]
  },
  {
   "cell_type": "markdown",
   "id": "828ae1b8",
   "metadata": {},
   "source": [
    "<p style=\"background:#F0A5FF; font-weight:bold\">Задача 5. Слова</p>\n",
    "\n",
    "В произвольной строке, вводимой пользователем, найдите все слова, начинающиеся с гласных букв. Представьте ответ в виде списка, состоящего из перевернутых (записанных от конца к началу) найденных слов. Словом в строке считать подстроку, ограниченную пробелами. "
   ]
  },
  {
   "cell_type": "code",
   "execution_count": 2,
   "id": "35dfc114",
   "metadata": {},
   "outputs": [
    {
     "name": "stdout",
     "output_type": "stream",
     "text": [
      "You've 3 words in your phrase that start from vowel\n"
     ]
    }
   ],
   "source": [
    "# 5.\n",
    "a = input('Your phrase: ')\n",
    "a = a.strip().lower()\n",
    "k = a.split(\" \")\n",
    "sp = 'eyuoiaуеёыаоэяию'\n",
    "kk = []\n",
    "cou = 0\n",
    "for i in range(len(k)):\n",
    "    if k[i] != '':\n",
    "        kk.append(k[i])\n",
    "for i in kk:\n",
    "    if i[0] in sp:\n",
    "        cou += 1\n",
    "print(f\"You've {cou} words in your phrase that start from vowel\")"
   ]
  },
  {
   "cell_type": "markdown",
   "id": "8b334216",
   "metadata": {},
   "source": [
    "<p style=\"background:#F0A5FF; font-weight:bold\">Задача 6. Повторяющиеся числа</p>\n",
    "\n",
    "Запросить у пользователя 2 целых числа и сохранить их в переменных *max_val*, *repeat*. Создать список из целых чисел со значениями от 1 до *max_val* включительно, повторяющийся *repeat* раз."
   ]
  },
  {
   "cell_type": "code",
   "execution_count": 3,
   "id": "d23badcc",
   "metadata": {},
   "outputs": [
    {
     "name": "stdout",
     "output_type": "stream",
     "text": [
      "Your result: [1, 2, 3, 4, 1, 2, 3, 4, 1, 2, 3, 4]\n"
     ]
    }
   ],
   "source": [
    "# 6.\n",
    "max_val = int(input('max_val: '))\n",
    "repeat = int(input('repeat: '))\n",
    "\n",
    "sp = []\n",
    "for i in range(1, max_val):\n",
    "    sp.append(i)\n",
    "print(f'Your result: {sp * repeat}')"
   ]
  },
  {
   "cell_type": "markdown",
   "id": "57a9a70d",
   "metadata": {},
   "source": [
    "<p style=\"background:#F0A5FF; font-weight:bold\">Задача 7. Две строки</p>\n",
    "\n",
    "Заданы две заранее неизвестные строки в которых слова разделены пробелами. Из двух строк составить одну, в котрой слова из первой и второй строки будут чередоваться при этом порядок слов будет сохранен.\n",
    "<br>\n",
    "<u><i>Пример</i></u>\n",
    "```\n",
    "'один два три', 'альфа бетта гамма' -> 'один альфа два бетта три гамма'.\n",
    "```"
   ]
  },
  {
   "cell_type": "code",
   "execution_count": 6,
   "id": "a88e30d9",
   "metadata": {},
   "outputs": [
    {
     "name": "stdout",
     "output_type": "stream",
     "text": [
      "first dddd second th\n"
     ]
    }
   ],
   "source": [
    "# 7.\n",
    "a = input('Your first phrase: ')\n",
    "a = a.strip().lower()\n",
    "k = a.split(\" \")\n",
    "\n",
    "b = input('Your second phrase: ')\n",
    "b = b.strip().lower()\n",
    "k2 = b.split(\" \")\n",
    "\n",
    "kk = []\n",
    "for i in range(len(k)):\n",
    "    if k[i] != '':\n",
    "        kk.append(k[i])\n",
    "        \n",
    "kk2 = []\n",
    "for i in range(len(k2)):\n",
    "    if k2[i] != '':\n",
    "        kk2.append(k2[i])\n",
    "\n",
    "cou = []\n",
    "if kk < kk2:\n",
    "    for i in range(len(kk)):\n",
    "        cou.append(kk[i])\n",
    "        cou.append(kk2[i])\n",
    "    for k in range(len(kk), len(kk2)):\n",
    "        cou.append(kk2[k])\n",
    "else:\n",
    "    for i in range(len(kk2)):\n",
    "        cou.append(kk[i])\n",
    "        cou.append(kk2[i])\n",
    "    for k in range(len(kk2), len(kk)):\n",
    "        cou.append(kk[k])\n",
    "\n",
    "print(*cou)"
   ]
  },
  {
   "cell_type": "markdown",
   "id": "ff211ba5",
   "metadata": {},
   "source": [
    "<p style=\"background:#F0A5FF; font-weight:bold\">Задача 8. Слова в порядке</p>\n",
    "\n",
    "Пользователь вводит произвольную строку в виде нескольких слов.\n",
    "1. Составить список, в котором слова находятся в лексикографическом порядке по возрастанию.\n",
    "2. Составить строку, в которой все слова списка, сформированного ранее, соединены знаком «&». Словом в строке считать подстроку, ограниченную пробелами."
   ]
  },
  {
   "cell_type": "code",
   "execution_count": 10,
   "id": "7f2e63fa",
   "metadata": {},
   "outputs": [
    {
     "name": "stdout",
     "output_type": "stream",
     "text": [
      "['asdfgh', 'kl', 'qwertyu', 'sdfghj']\n",
      "asdfgh&kl&qwertyu&sdfghj\n"
     ]
    }
   ],
   "source": [
    "# 8.\n",
    "a = input('Your first phrase: ')\n",
    "a = a.strip().lower()\n",
    "k = a.split(\" \")\n",
    "kk = []\n",
    "for i in range(len(k)):\n",
    "    if k[i] != '':\n",
    "        kk.append(k[i])\n",
    "\n",
    "kk = sorted(kk)\n",
    "print(kk)\n",
    "print('&'.join(kk))\n",
    "\n"
   ]
  },
  {
   "cell_type": "markdown",
   "id": "8e983e09",
   "metadata": {},
   "source": [
    "<p style=\"background:#F0A5FF; font-weight:bold\">Задача 9. Первые буквы</p>\n",
    "\n",
    "Имеется предложение, слова в котором, разделяются пробелами. Получить слово, состоящее из первых букв слов в предложении. <br>Пример:\n",
    "```\n",
    "Peter yawned twice, hoping ordinary naps\n",
    "=> Python\n",
    "```"
   ]
  },
  {
   "cell_type": "code",
   "execution_count": 11,
   "id": "8f266df2",
   "metadata": {},
   "outputs": [
    {
     "name": "stdout",
     "output_type": "stream",
     "text": [
      "Python\n"
     ]
    }
   ],
   "source": [
    "#9.\n",
    "a = input('Your phrase: ')\n",
    "a = a.strip()\n",
    "k = a.split(\" \")\n",
    "kk = []\n",
    "cou = ''\n",
    "for i in range(len(k)):\n",
    "    if k[i] != '':\n",
    "        kk.append(k[i])\n",
    "for i in kk:\n",
    "    cou += str(i[0])\n",
    "print(cou)"
   ]
  }
 ],
 "metadata": {
  "kernelspec": {
   "display_name": "Python 3",
   "language": "python",
   "name": "python3"
  },
  "language_info": {
   "codemirror_mode": {
    "name": "ipython",
    "version": 3
   },
   "file_extension": ".py",
   "mimetype": "text/x-python",
   "name": "python",
   "nbconvert_exporter": "python",
   "pygments_lexer": "ipython3",
   "version": "3.13.3"
  }
 },
 "nbformat": 4,
 "nbformat_minor": 5
}
