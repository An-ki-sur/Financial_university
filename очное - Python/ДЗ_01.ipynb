{
 "cells": [
  {
   "cell_type": "markdown",
   "id": "97518b57",
   "metadata": {},
   "source": [
    "# Домашнее задание 1.1 (1)\n",
    "\n",
    "Присвойте этому файлу имя в формате *Фамилия_Имя_Группа_ДЗ_1*. Разместите файл *jupyter notebook* в соответствующем разделе электронного учебного курса."
   ]
  },
  {
   "cell_type": "markdown",
   "id": "f81f319e",
   "metadata": {},
   "source": [
    "<p style = \"background:powderblue\">1. Число дней</p>\n",
    "\n",
    "Напишите программу, которая запрашивает у пользователя количество дней в текущем месяце и сегодняшнее число, а затем выводит текст с информацией о том, сколько дней осталось до конца текущего месяца."
   ]
  },
  {
   "cell_type": "code",
   "execution_count": 5,
   "id": "a824eb22",
   "metadata": {},
   "outputs": [
    {
     "name": "stdout",
     "output_type": "stream",
     "text": [
      "2\n"
     ]
    }
   ],
   "source": [
    "# 1. Ваш код здесь\n",
    "days = int(input('Enter how days in your mounth: '))\n",
    "day = int(input('Enter what day is today: '))\n",
    "print(abs(days - day))"
   ]
  },
  {
   "cell_type": "markdown",
   "id": "240dba53",
   "metadata": {},
   "source": [
    "<p style = \"background:powderblue\">2. Число квадратов</p>\n",
    "\n",
    "Напишите программу, которая определит, сколько квадратов со стороной $square$ можно разместить в прямоугольнике $side\\_1 \\times side\\_2$. Введите значения $square$, $side\\_1$ и $side\\_2$.\n",
    "\n",
    "```\n",
    "Вход: квадрат 4, прямоугольник (7, 9); Выход: 2\n",
    "Вход: квадрат 7, прямоугольник (18, 29); Выход 8\n",
    "```"
   ]
  },
  {
   "cell_type": "code",
   "execution_count": 6,
   "id": "13452294",
   "metadata": {},
   "outputs": [
    {
     "name": "stdout",
     "output_type": "stream",
     "text": [
      "You can place only 1 squares.\n"
     ]
    }
   ],
   "source": [
    "# 2. Ваш код здесь\n",
    "sq = int(input('Enter square: '))\n",
    "s1 = int(input('Enter first side: '))\n",
    "s2 = int(input('Enter second side: '))\n",
    "\n",
    "cou = (s1 // sq) * (s2 // sq)\n",
    "print(f'You can place only {cou} squares.')"
   ]
  },
  {
   "cell_type": "markdown",
   "id": "0efc17c1",
   "metadata": {},
   "source": [
    "<p style = \"background:powderblue\">3. Цена муки</p>\n",
    "\n",
    "Рисовая мука поступает ежедневно по разной цене. Напишите программу, которая получает от пользователя цену за килограмм рисовой муки, количество ее килограммов в наличии на начало рабочего дня и количество проданных за день килограммов, а затем выводит отдельно стоимость муки в наличии на начало и конец рабочего дня."
   ]
  },
  {
   "cell_type": "code",
   "execution_count": 7,
   "id": "e3abc5ab",
   "metadata": {},
   "outputs": [
    {
     "name": "stdout",
     "output_type": "stream",
     "text": [
      "Before working: 4. After working: 0\n"
     ]
    }
   ],
   "source": [
    "# 3. Ваш код здесь\n",
    "pr = int(input('Enter price per kilo: '))\n",
    "cou = int(input('Enter how much kilos do you have: '))\n",
    "sales = int(input('Enter how much do you sell: '))\n",
    "\n",
    "print(f\"Before working: {cou * pr}. After working: {(cou - sales) * pr}\")"
   ]
  },
  {
   "cell_type": "markdown",
   "id": "a7119224",
   "metadata": {},
   "source": [
    "<p style = \"background:powderblue\">4. Скобки</p>\n",
    "\n",
    "В выражении `res = 70 / 3 + 4 * 5 % 2` расставьте скобки, не меняя само выражение, так, чтобы переменная `res` приняла значение 0.0."
   ]
  },
  {
   "cell_type": "code",
   "execution_count": 11,
   "id": "87cedb66",
   "metadata": {},
   "outputs": [
    {
     "name": "stdout",
     "output_type": "stream",
     "text": [
      "0.0\n"
     ]
    }
   ],
   "source": [
    "# 4. Ваш код здесь\n",
    "res = (70 / ((3 + 4) * 5) % 2)\n",
    "print(res)"
   ]
  },
  {
   "cell_type": "markdown",
   "id": "04acab93",
   "metadata": {},
   "source": [
    "<p style = \"background:powderblue\">5. Округление</p>\n",
    "\n",
    "Округлите до большего целого\n",
    "\n",
    "$$ \\frac{e^{\\log_{4}{(x+y)^3}}}{\\sqrt{x \\cdot y}} $$\n",
    "\n",
    "$$ x = 200, y = 181, res = 2023 $$\n",
    "$$ x = 10, y = 15, res = 87 $$"
   ]
  },
  {
   "cell_type": "code",
   "execution_count": 15,
   "id": "0eba7dcd",
   "metadata": {},
   "outputs": [
    {
     "name": "stdout",
     "output_type": "stream",
     "text": [
      "1: 2023. 2: 87\n"
     ]
    }
   ],
   "source": [
    "# 5. Ваш код здесь\n",
    "import math\n",
    "def f(x, y):\n",
    "    return (math.e ** math.log((x+y)**3, 4)) / (x*y) ** 0.5\n",
    "\n",
    "x1, y1 = 200, 181\n",
    "x2, y2 = 10, 15\n",
    "print(f'1: {math.ceil(f(x1, y1))}. 2: {math.ceil(f(x2, y2))}')"
   ]
  },
  {
   "cell_type": "markdown",
   "id": "919cffd9",
   "metadata": {},
   "source": [
    "<p style = \"background:powderblue\">6. Ложь - Истина</p>\n",
    "\n",
    "Исправьте программу таким образом, чтобы в результате ее исполнения на экран всегда выводились значения\n",
    "```\n",
    "False\n",
    "True\n",
    "```\n",
    "каждое в отдельной строке.\n",
    "\n",
    "```\n",
    "a = int(input('Введите число: '))\n",
    "b = -a\n",
    "\n",
    "print(a == a) # внесите изменения в этой строке\n",
    "print(a < b) # внесите изменения в этой строке\n",
    "```"
   ]
  },
  {
   "cell_type": "code",
   "execution_count": 17,
   "id": "e467d6ea",
   "metadata": {},
   "outputs": [
    {
     "name": "stdout",
     "output_type": "stream",
     "text": [
      "False\n",
      "True\n"
     ]
    }
   ],
   "source": [
    "# 6. Ваш код здесь\n",
    "a = int(input('Введите число: '))\n",
    "b = -a\n",
    "\n",
    "print(a != a)\n",
    "print(a >= b)"
   ]
  }
 ],
 "metadata": {
  "kernelspec": {
   "display_name": "base",
   "language": "python",
   "name": "python3"
  },
  "language_info": {
   "codemirror_mode": {
    "name": "ipython",
    "version": 3
   },
   "file_extension": ".py",
   "mimetype": "text/x-python",
   "name": "python",
   "nbconvert_exporter": "python",
   "pygments_lexer": "ipython3",
   "version": "3.9.7"
  }
 },
 "nbformat": 4,
 "nbformat_minor": 5
}
